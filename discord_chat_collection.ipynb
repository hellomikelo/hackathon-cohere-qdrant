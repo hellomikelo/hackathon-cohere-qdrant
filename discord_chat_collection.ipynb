{
  "nbformat": 4,
  "nbformat_minor": 0,
  "metadata": {
    "colab": {
      "provenance": [],
      "authorship_tag": "ABX9TyPzUg94c+XoWz7G2KTNjNak",
      "include_colab_link": true
    },
    "kernelspec": {
      "name": "python3",
      "display_name": "Python 3"
    },
    "language_info": {
      "name": "python"
    }
  },
  "cells": [
    {
      "cell_type": "markdown",
      "metadata": {
        "id": "view-in-github",
        "colab_type": "text"
      },
      "source": [
        "<a href=\"https://colab.research.google.com/github/hellomikelo/hackathon-cohere-qdrant/blob/dev-prototype/discord_chat_collection.ipynb\" target=\"_parent\"><img src=\"https://colab.research.google.com/assets/colab-badge.svg\" alt=\"Open In Colab\"/></a>"
      ]
    },
    {
      "cell_type": "markdown",
      "source": [
        "# Discord chat history data\n",
        "\n",
        "This notebook uses a Discord bot to collect channel chat history to for creating text embeddings that will be used to create a vector search engine.\n",
        "\n",
        "Steps: \n",
        "1. Set up bot to take in new messages\n",
        "1. embed new message \n",
        "2. ask chatbot to find messages related to an idea (e.g. \"who likes to bake cake?\")\n",
        "3. chatbot embeds the message and search the vector database using cosine similarity\n",
        "4. chatbot returns top 3 relevant messages with links to the messages\n",
        "\n",
        "References: \n",
        "* [discord.py home](https://discordpy.readthedocs.io/en/stable/index.html#)\n",
        "* [API reference](https://discordpy.readthedocs.io/en/stable/api.html)\n",
        "* [Minimal bot quickstart](https://discordpy.readthedocs.io/en/stable/quickstart.html)\n",
        "* [Creating a Bot Account](https://discordpy.readthedocs.io/en/stable/discord.html#discord-intro)"
      ],
      "metadata": {
        "id": "JwliZqN0xpNp"
      }
    },
    {
      "cell_type": "code",
      "execution_count": null,
      "metadata": {
        "colab": {
          "base_uri": "https://localhost:8080/"
        },
        "id": "NX7gRmoPu2FH",
        "outputId": "3998796c-baa2-4b3a-a46c-5ea46d4a0aee"
      },
      "outputs": [
        {
          "name": "stdout",
          "output_type": "stream",
          "text": [
            "Mounted at /content/drive\n"
          ]
        }
      ],
      "source": [
        "from google.colab import drive\n",
        "from dotenv import load_dotenv\n",
        "import os\n",
        "drive.mount('/content/drive', force_remount=True)"
      ]
    },
    {
      "cell_type": "code",
      "execution_count": null,
      "metadata": {
        "colab": {
          "base_uri": "https://localhost:8080/"
        },
        "id": "paRVNeYuqJf4",
        "outputId": "547ab787-d81f-4601-ca7f-43077c56d4bf"
      },
      "outputs": [
        {
          "name": "stdout",
          "output_type": "stream",
          "text": [
            "\u001b[?25l     \u001b[90m━━━━━━━━━━━━━━━━━━━━━━━━━━━━━━━━━━━━━━━━\u001b[0m \u001b[32m0.0/1.1 MB\u001b[0m \u001b[31m?\u001b[0m eta \u001b[36m-:--:--\u001b[0m\r\u001b[2K     \u001b[91m━━━━━━━━━━\u001b[0m\u001b[90m╺\u001b[0m\u001b[90m━━━━━━━━━━━━━━━━━━━━━━━━━━━━━\u001b[0m \u001b[32m0.3/1.1 MB\u001b[0m \u001b[31m8.2 MB/s\u001b[0m eta \u001b[36m0:00:01\u001b[0m\r\u001b[2K     \u001b[91m━━━━━━━━━━━━━━━━━━━━━━━━━━━━━━━━━━━━━━━\u001b[0m\u001b[91m╸\u001b[0m \u001b[32m1.1/1.1 MB\u001b[0m \u001b[31m18.6 MB/s\u001b[0m eta \u001b[36m0:00:01\u001b[0m\r\u001b[2K     \u001b[90m━━━━━━━━━━━━━━━━━━━━━━━━━━━━━━━━━━━━━━━━\u001b[0m \u001b[32m1.1/1.1 MB\u001b[0m \u001b[31m14.8 MB/s\u001b[0m eta \u001b[36m0:00:00\u001b[0m\n",
            "\u001b[?25h"
          ]
        }
      ],
      "source": [
        "!pip install -q -U py-cord datasets qdrant_client==\"0.11.0\" cohere python-dotenv\n",
        "!cp /content/drive/MyDrive/env/vars.env /content/.env"
      ]
    },
    {
      "cell_type": "code",
      "execution_count": null,
      "metadata": {
        "colab": {
          "base_uri": "https://localhost:8080/"
        },
        "id": "1HBMoNkzu2FI",
        "outputId": "5a7e4d13-6ac8-42a6-8795-a240e28108cc"
      },
      "outputs": [
        {
          "data": {
            "text/plain": [
              "True"
            ]
          },
          "execution_count": 7,
          "metadata": {},
          "output_type": "execute_result"
        }
      ],
      "source": [
        "load_dotenv(override=True)"
      ]
    },
    {
      "cell_type": "markdown",
      "metadata": {
        "id": "-BDjgMtxnZNA"
      },
      "source": [
        "Create function to get channel chat history and save the messages as a CSV. This uses the [Message components](https://discordpy.readthedocs.io/en/stable/api.html#message) ."
      ]
    },
    {
      "cell_type": "code",
      "execution_count": null,
      "metadata": {
        "colab": {
          "base_uri": "https://localhost:8080/"
        },
        "id": "isRYnL4UwMTm",
        "outputId": "d6d73e65-c6ad-4d73-9d2f-a9eeb38358e6"
      },
      "outputs": [
        {
          "name": "stdout",
          "output_type": "stream",
          "text": [
            "Writing gethistory.py\n"
          ]
        }
      ],
      "source": [
        "%%writefile gethistory.py\n",
        "import discord\n",
        "import pandas as pd\n",
        "import os\n",
        "\n",
        "intents = discord.Intents.default()\n",
        "intents.message_content = True\n",
        "\n",
        "client = discord.Client(intents=intents)\n",
        "guild = discord.Guild\n",
        "\n",
        "@client.event\n",
        "async def on_message(message):\n",
        "    if message.author == client.user:\n",
        "        return\n",
        "    elif message.content.startswith('_'):\n",
        "        cmd = message.content.split()[0].replace(\"_\",\"\")\n",
        "        if len(message.content.split()) > 1:\n",
        "            parameters = message.content.split()[1:]\n",
        "\n",
        "        if cmd == 'scan':\n",
        "\n",
        "            data = pd.DataFrame(columns=['content', 'time', 'author', 'jump_url'])\n",
        "            \n",
        "            def is_command(msg): # Checking if the message is a command call\n",
        "                if len(msg.content) == 0:\n",
        "                    return False\n",
        "                elif msg.content.split()[0] == '_scan':\n",
        "                    return True\n",
        "                else:\n",
        "                    return False\n",
        "\n",
        "            # As an example, I've set the limit to 10000\n",
        "            async for msg in message.channel.history(limit=10000): \n",
        "                if msg.author != client.user:                        \n",
        "                    if not is_command(msg):                          \n",
        "                        data = data.append({'content': msg.content,\n",
        "                                            'time': msg.created_at,\n",
        "                                            'author': msg.author.name,\n",
        "                                            'jump_url': msg.jump_url,\n",
        "                                            }, ignore_index=True)\n",
        "                    #if len(data) == limit:\n",
        "                    #    break\n",
        "            \n",
        "            file_location = \"data.csv\" # Set the string to where you want the file to be saved to\n",
        "            data.to_csv(file_location)\n",
        "            print(f'Chat history saved to {file_location}')\n",
        "\n",
        "client.run(os.getenv('DISCORD_TOKEN'))"
      ]
    },
    {
      "cell_type": "code",
      "execution_count": null,
      "metadata": {
        "colab": {
          "background_save": true
        },
        "id": "qbNp8w4Erl6v"
      },
      "outputs": [],
      "source": [
        "# !python3 example.py\n",
        "!python3 gethistory.py"
      ]
    },
    {
      "cell_type": "markdown",
      "metadata": {
        "id": "saz-2yYln5KM"
      },
      "source": [
        "Create event-driven bot to take user prompt, query relevant results, and generate a response to feedback to the user."
      ]
    },
    {
      "cell_type": "code",
      "execution_count": null,
      "metadata": {
        "colab": {
          "base_uri": "https://localhost:8080/"
        },
        "id": "Nucb_CSOqrnl",
        "outputId": "d6fe8c9b-c9fb-4767-f038-9634069d3bd0"
      },
      "outputs": [
        {
          "name": "stdout",
          "output_type": "stream",
          "text": [
            "Overwriting example.py\n"
          ]
        }
      ],
      "source": [
        "%%writefile example.py\n",
        "# This example requires the 'message_content' intent.\n",
        "import discord\n",
        "import os\n",
        "\n",
        "class MyClient(discord.Client):\n",
        "    async def on_ready(self):\n",
        "        print(f'Logged on as {self.user}!')\n",
        "\n",
        "    async def on_message(self, message):\n",
        "        print(f'Message from {message.author}: {message.content}')\n",
        "\n",
        "\n",
        "intents = discord.Intents.default()\n",
        "intents.message_content = True\n",
        "\n",
        "client = MyClient(intents=intents)\n",
        "client.run(os.getenv('DISCORD_TOKEN'))\n"
      ]
    },
    {
      "cell_type": "code",
      "execution_count": null,
      "metadata": {
        "id": "ibQEVVMCn-yS"
      },
      "outputs": [],
      "source": [
        "import time\n",
        "time."
      ]
    },
    {
      "cell_type": "code",
      "execution_count": null,
      "metadata": {
        "colab": {
          "base_uri": "https://localhost:8080/"
        },
        "id": "r_Zw_v2dg4fe",
        "outputId": "48d2fe63-b16f-442c-c459-d0cd67f4c20a"
      },
      "outputs": [
        {
          "name": "stdout",
          "output_type": "stream",
          "text": [
            "Overwriting dsend.py\n"
          ]
        }
      ],
      "source": [
        "%%writefile dsend.py\n",
        "import discord\n",
        "import pandas as pd\n",
        "import os\n",
        "    \n",
        "intents = discord.Intents.default()\n",
        "intents.message_content = True\n",
        "\n",
        "client = discord.Client(intents=intents)\n",
        "\n",
        "\n",
        "@client.event\n",
        "async def on_ready():\n",
        "    for s in 'this is sent from Colab'.split():\n",
        "        await client.get_channel(1084864988688154627).send(s)\n",
        "\n",
        "\n",
        "client.run(os.getenv('DISCORD_TOKEN'))"
      ]
    },
    {
      "cell_type": "code",
      "execution_count": null,
      "metadata": {
        "colab": {
          "base_uri": "https://localhost:8080/"
        },
        "id": "ktP4PUtJkFOH",
        "outputId": "c80e4f1c-85ac-401c-efc9-9a311867ddd7"
      },
      "outputs": [
        {
          "name": "stdout",
          "output_type": "stream",
          "text": [
            "\u001b[30;1m2023-03-14 00:57:43\u001b[0m \u001b[34;1mINFO    \u001b[0m \u001b[35mdiscord.client\u001b[0m logging in using static token\n",
            "\u001b[30;1m2023-03-14 00:57:43\u001b[0m \u001b[34;1mINFO    \u001b[0m \u001b[35mdiscord.gateway\u001b[0m Shard ID None has connected to Gateway (Session ID: 3234d7569aedae26ed9aee17b7772457).\n"
          ]
        }
      ],
      "source": [
        "!python3 dsend.py"
      ]
    }
  ]
}